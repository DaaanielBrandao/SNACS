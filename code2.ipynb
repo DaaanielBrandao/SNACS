{
 "cells": [
  {
   "cell_type": "code",
   "execution_count": 6,
   "metadata": {},
   "outputs": [],
   "source": [
    "import networkx as nx\n",
    "from networkx.generators.community import LFR_benchmark_graph"
   ]
  },
  {
   "cell_type": "code",
   "execution_count": 95,
   "metadata": {},
   "outputs": [],
   "source": [
    "n = 100000\n",
    "tau1 = 3\n",
    "tau2 = 1.5\n",
    "mu = 0.1\n",
    "G = LFR_benchmark_graph(\n",
    "    n, tau1, tau2, mu, average_degree=7, min_community=10, seed=10\n",
    ")\n",
    "\n",
    "#nodes, tau1, tau2, mu, average_degree"
   ]
  },
  {
   "cell_type": "code",
   "execution_count": null,
   "metadata": {},
   "outputs": [],
   "source": [
    "configuration = {\n",
    "    'n':[100, 1000, 10000],\n",
    "    'tau1': [3, 3.5],\n",
    "    'tau2': [1.5, 2],\n",
    "    'mu': [0.1, 0.2]\n",
    "}"
   ]
  },
  {
   "cell_type": "code",
   "execution_count": null,
   "metadata": {},
   "outputs": [],
   "source": [
    "\n",
    "configurations_possible = []\n",
    "\n",
    "def get_possible_configs(conf, index, current):\n",
    "\n",
    "    if index == len(conf):\n",
    "        configurations_possible.append(current)\n",
    "        return \n",
    "\n",
    "    here = list(conf.keys())[index]\n",
    "\n",
    "    for value in conf[here]:\n",
    "        current[here] = value\n",
    "        get_possible_configs(conf, index + 1, current)\n",
    "\n",
    "\n",
    "get_possible_configs(configuration, 0, {})\n",
    "\n"
   ]
  },
  {
   "cell_type": "code",
   "execution_count": null,
   "metadata": {},
   "outputs": [
    {
     "name": "stdout",
     "output_type": "stream",
     "text": [
      "{'n': 10000, 'tau1': 3.5, 'tau2': 2, 'mu': 0.2}\n"
     ]
    }
   ],
   "source": [
    "for configuration in configurations_possible:\n",
    "    print(configuration)\n",
    "    G = LFR_benchmark_graph(configuration['n'], configuration['tau1'], \\\n",
    "        configuration['tau2'], configuration['mu'], average_degree=16, min_community=20, seed=10)\n",
    "    #todo: acrescentar aqui as metricas\n",
    "    break"
   ]
  },
  {
   "cell_type": "code",
   "execution_count": 79,
   "metadata": {},
   "outputs": [
    {
     "name": "stdout",
     "output_type": "stream",
     "text": [
      "337263\n",
      "821.2953183843191\n"
     ]
    }
   ],
   "source": [
    "import math\n",
    "print(G.number_of_edges())\n",
    "print(math.sqrt(2*G.number_of_edges()))"
   ]
  },
  {
   "cell_type": "code",
   "execution_count": 80,
   "metadata": {},
   "outputs": [],
   "source": [
    "communities = {frozenset(G.nodes[v][\"community\"]) for v in G}\n"
   ]
  },
  {
   "cell_type": "code",
   "execution_count": 81,
   "metadata": {},
   "outputs": [
    {
     "name": "stdout",
     "output_type": "stream",
     "text": [
      "655\n"
     ]
    }
   ],
   "source": [
    "print(len(communities))"
   ]
  },
  {
   "cell_type": "code",
   "execution_count": 82,
   "metadata": {},
   "outputs": [],
   "source": [
    "#for x in communities:\n",
    "#    print(x)"
   ]
  },
  {
   "cell_type": "code",
   "execution_count": 83,
   "metadata": {},
   "outputs": [
    {
     "name": "stdout",
     "output_type": "stream",
     "text": [
      "{852: 1, 840: 1, 818: 1, 811: 1, 807: 1, 785: 1, 783: 1, 758: 1, 753: 1, 727: 1, 725: 1, 690: 1, 667: 1, 665: 1, 657: 1, 651: 1, 639: 1, 620: 1, 611: 1, 608: 1, 605: 1, 604: 1, 598: 1, 597: 1, 574: 1, 572: 1, 570: 2, 567: 1, 551: 1, 548: 2, 547: 1, 544: 3, 527: 1, 525: 1, 519: 1, 518: 1, 510: 1, 503: 1, 496: 1, 495: 1, 485: 1, 482: 1, 479: 1, 473: 2, 470: 1, 453: 1, 452: 1, 451: 1, 449: 1, 447: 1, 443: 1, 437: 2, 435: 1, 433: 1, 431: 1, 429: 1, 426: 1, 423: 1, 421: 1, 416: 1, 411: 1, 407: 1, 405: 1, 403: 1, 392: 1, 388: 1, 387: 1, 386: 1, 375: 1, 374: 1, 371: 1, 369: 1, 362: 1, 361: 1, 358: 1, 350: 1, 348: 2, 347: 1, 328: 1, 325: 1, 320: 1, 319: 1, 318: 1, 317: 1, 316: 2, 314: 1, 310: 1, 309: 2, 307: 1, 304: 1, 301: 1, 295: 2, 294: 1, 293: 1, 292: 2, 286: 3, 284: 1, 283: 1, 282: 2, 276: 1, 274: 1, 266: 1, 264: 1, 258: 1, 256: 1, 249: 1, 247: 1, 246: 1, 241: 1, 238: 1, 236: 1, 234: 1, 233: 2, 232: 1, 231: 1, 230: 1, 227: 1, 224: 1, 222: 2, 218: 1, 217: 1, 215: 2, 214: 1, 211: 1, 210: 2, 207: 1, 205: 1, 201: 3, 200: 1, 199: 3, 195: 1, 194: 1, 193: 1, 192: 2, 191: 1, 190: 1, 189: 1, 188: 1, 184: 1, 180: 2, 178: 2, 177: 1, 175: 3, 173: 2, 171: 1, 168: 1, 165: 1, 164: 2, 163: 1, 162: 1, 161: 1, 160: 1, 158: 1, 155: 2, 153: 1, 152: 2, 149: 2, 148: 1, 147: 3, 146: 1, 145: 1, 144: 1, 143: 1, 142: 2, 141: 1, 140: 2, 139: 2, 138: 2, 136: 4, 135: 1, 134: 1, 133: 1, 132: 1, 131: 1, 130: 1, 129: 1, 127: 3, 125: 2, 124: 3, 123: 4, 122: 5, 121: 1, 120: 1, 119: 1, 118: 3, 117: 3, 116: 1, 115: 4, 114: 1, 113: 1, 111: 1, 110: 5, 109: 4, 108: 4, 107: 2, 106: 5, 104: 3, 103: 1, 102: 3, 101: 2, 100: 4, 99: 5, 97: 3, 96: 4, 94: 4, 93: 3, 92: 4, 90: 4, 89: 3, 88: 1, 87: 3, 86: 1, 85: 3, 84: 6, 83: 2, 82: 5, 81: 3, 80: 1, 79: 3, 78: 2, 77: 4, 76: 4, 75: 3, 74: 1, 73: 2, 72: 5, 71: 6, 70: 5, 69: 4, 68: 4, 67: 1, 66: 5, 65: 4, 64: 4, 63: 2, 62: 4, 61: 1, 60: 7, 59: 3, 58: 6, 57: 7, 56: 6, 55: 5, 54: 9, 53: 4, 52: 6, 51: 5, 50: 5, 49: 8, 48: 10, 47: 7, 46: 10, 45: 4, 44: 9, 43: 7, 42: 7, 41: 11, 40: 12, 39: 11, 38: 11, 37: 11, 36: 9, 35: 10, 34: 11, 33: 8, 32: 9, 31: 8, 30: 16}\n"
     ]
    }
   ],
   "source": [
    "from collections import defaultdict\n",
    "\n",
    "size_comm = defaultdict(int)\n",
    "for x in communities:\n",
    "    size_comm[len(x)]+=1\n",
    "\n",
    "size_comm = {k: v for k, v in sorted(size_comm.items(), key=lambda item: item[0], reverse=True)}\n",
    "print(size_comm)"
   ]
  },
  {
   "cell_type": "code",
   "execution_count": 84,
   "metadata": {},
   "outputs": [],
   "source": [
    "import community.community_louvain as community_louvain"
   ]
  },
  {
   "cell_type": "code",
   "execution_count": 85,
   "metadata": {},
   "outputs": [
    {
     "name": "stdout",
     "output_type": "stream",
     "text": [
      "{1260: 1, 1013: 1, 1004: 1, 1001: 1, 965: 1, 931: 1, 906: 1, 877: 1, 841: 1, 820: 1, 804: 1, 802: 1, 788: 1, 785: 1, 784: 1, 783: 1, 782: 1, 776: 1, 768: 1, 755: 1, 745: 1, 733: 1, 725: 1, 721: 1, 720: 1, 717: 1, 713: 1, 701: 1, 697: 1, 694: 1, 686: 1, 681: 2, 657: 1, 648: 1, 646: 1, 644: 1, 639: 1, 637: 1, 634: 1, 623: 1, 619: 1, 614: 1, 610: 1, 606: 1, 605: 1, 601: 1, 598: 2, 596: 2, 595: 1, 591: 1, 580: 1, 577: 1, 574: 1, 569: 1, 568: 1, 567: 1, 554: 1, 544: 1, 542: 2, 521: 1, 519: 1, 516: 1, 514: 2, 511: 3, 509: 1, 504: 1, 501: 1, 499: 1, 494: 1, 493: 1, 489: 1, 486: 1, 484: 1, 481: 1, 474: 2, 473: 1, 472: 1, 471: 1, 469: 1, 464: 2, 463: 1, 455: 1, 450: 1, 448: 1, 447: 1, 439: 1, 431: 1, 428: 1, 424: 1, 423: 1, 421: 1, 420: 1, 419: 2, 415: 1, 412: 2, 407: 3, 402: 1, 401: 1, 400: 1, 396: 1, 394: 1, 391: 1, 385: 1, 383: 1, 381: 1, 372: 2, 370: 1, 369: 1, 367: 1, 365: 2, 362: 1, 360: 1, 354: 1, 348: 1, 344: 1, 342: 1, 341: 1, 340: 1, 337: 1, 336: 1, 334: 1, 333: 1, 330: 1, 328: 3, 325: 1, 322: 2, 320: 1, 319: 1, 315: 1, 313: 2, 309: 1, 307: 1, 304: 1, 302: 2, 301: 1, 300: 1, 297: 1, 296: 2, 292: 1, 289: 1, 284: 1, 282: 1, 280: 2, 279: 2, 278: 1, 277: 1, 270: 3, 267: 2, 259: 1, 256: 1, 255: 1, 254: 1, 251: 1, 250: 1, 249: 1, 248: 2, 247: 1, 246: 3, 243: 1, 242: 1, 241: 2, 240: 1, 239: 2, 235: 2, 234: 1, 230: 2, 229: 3, 228: 1, 227: 1, 226: 1, 221: 2, 219: 1, 210: 1, 208: 2, 205: 1, 195: 1, 189: 1, 184: 1, 174: 1, 173: 1, 172: 1, 170: 1, 165: 1, 164: 2, 160: 1, 158: 1, 151: 1, 150: 1, 149: 1, 148: 2, 146: 2, 141: 1, 140: 1, 128: 1, 125: 1, 113: 1}\n"
     ]
    }
   ],
   "source": [
    "partion = community_louvain.best_partition(G)\n",
    "\n",
    "found_comm = defaultdict(int)\n",
    "for node, community in partion.items():\n",
    "    found_comm[community]+=1\n",
    "\n",
    "# (community_nr, nr_nodes)\n",
    "\n",
    "another = defaultdict(int)\n",
    "\n",
    "for cnr, c in found_comm.items():\n",
    "    another[c]+=1\n",
    "\n",
    "another = {k: v for k, v in sorted(another.items(), key=lambda item: item[0], reverse=True)}\n",
    "\n",
    "\n",
    "print(another)"
   ]
  },
  {
   "cell_type": "code",
   "execution_count": 86,
   "metadata": {},
   "outputs": [],
   "source": [
    "temp_dict = defaultdict()\n",
    "\n",
    "c = 1\n",
    "for y in communities:\n",
    "    temp_dict[c] = y\n",
    "    c+= 1\n",
    "\n"
   ]
  },
  {
   "cell_type": "code",
   "execution_count": 87,
   "metadata": {},
   "outputs": [
    {
     "name": "stdout",
     "output_type": "stream",
     "text": [
      "0.98626\n",
      "654 [1, 2, 3, 4, 5, 6, 7, 8, 9, 10, 11, 12, 13, 14, 15, 16, 17, 18, 19, 20, 21, 22, 23, 24, 25, 26, 27, 28, 29, 30, 31, 32, 33, 34, 35, 36, 37, 38, 39, 40, 41, 42, 43, 44, 45, 46, 47, 48, 49, 50, 51, 52, 53, 54, 55, 56, 57, 58, 59, 60, 61, 62, 63, 64, 65, 66, 67, 68, 69, 70, 71, 72, 73, 74, 75, 76, 77, 78, 79, 80, 81, 82, 83, 84, 85, 86, 87, 88, 89, 90, 91, 92, 93, 94, 95, 96, 97, 98, 99, 100, 101, 102, 103, 104, 105, 106, 107, 108, 109, 110, 111, 112, 113, 114, 115, 116, 117, 118, 119, 120, 121, 122, 123, 124, 125, 126, 127, 128, 129, 130, 131, 132, 133, 134, 135, 136, 137, 138, 139, 140, 141, 142, 143, 144, 145, 146, 147, 148, 149, 150, 151, 152, 153, 154, 155, 156, 157, 158, 159, 160, 161, 162, 163, 164, 165, 166, 167, 168, 169, 170, 171, 172, 173, 174, 175, 176, 177, 178, 179, 180, 181, 182, 183, 184, 185, 186, 187, 188, 189, 190, 191, 192, 193, 194, 195, 196, 197, 198, 199, 200, 201, 202, 203, 204, 205, 206, 207, 208, 209, 210, 211, 212, 213, 214, 215, 216, 217, 218, 219, 220, 221, 222, 223, 224, 225, 226, 227, 228, 229, 230, 231, 232, 233, 234, 235, 236, 237, 238, 239, 240, 241, 242, 243, 244, 245, 246, 247, 248, 249, 250, 251, 252, 253, 254, 255, 256, 257, 258, 259, 260, 261, 262, 263, 264, 265, 266, 267, 268, 269, 270, 271, 272, 273, 274, 275, 276, 277, 278, 279, 280, 281, 282, 283, 284, 285, 286, 287, 288, 289, 290, 291, 292, 293, 294, 295, 296, 297, 298, 299, 300, 301, 302, 303, 304, 305, 306, 307, 308, 309, 310, 311, 312, 313, 314, 315, 316, 317, 318, 319, 320, 321, 322, 323, 324, 325, 326, 327, 328, 329, 330, 331, 332, 333, 334, 335, 336, 337, 338, 339, 340, 341, 342, 343, 344, 345, 346, 347, 348, 349, 350, 351, 352, 353, 354, 355, 356, 357, 358, 359, 360, 361, 362, 363, 364, 365, 366, 367, 368, 369, 370, 371, 372, 373, 374, 375, 376, 377, 378, 379, 380, 381, 382, 383, 384, 385, 386, 387, 388, 389, 390, 391, 392, 393, 394, 395, 396, 397, 398, 399, 400, 401, 402, 403, 404, 405, 406, 407, 408, 409, 410, 411, 412, 413, 414, 415, 416, 417, 418, 419, 420, 421, 422, 423, 424, 425, 426, 427, 428, 429, 430, 431, 432, 433, 434, 435, 436, 437, 438, 439, 440, 441, 442, 443, 444, 445, 446, 447, 448, 449, 450, 451, 452, 453, 454, 455, 456, 457, 458, 459, 460, 461, 462, 463, 464, 465, 466, 467, 468, 469, 470, 471, 472, 473, 474, 475, 476, 477, 478, 479, 480, 481, 482, 483, 484, 485, 486, 487, 488, 489, 490, 491, 492, 493, 494, 495, 496, 497, 498, 499, 500, 501, 502, 503, 504, 505, 506, 507, 508, 509, 510, 511, 512, 513, 514, 515, 516, 517, 518, 519, 520, 521, 522, 523, 524, 525, 527, 528, 529, 530, 531, 532, 533, 534, 535, 536, 537, 538, 539, 540, 541, 542, 543, 544, 545, 546, 547, 548, 549, 550, 551, 552, 553, 554, 555, 556, 557, 558, 559, 560, 561, 562, 563, 564, 565, 566, 567, 568, 569, 570, 571, 572, 573, 574, 575, 576, 577, 578, 579, 580, 581, 582, 583, 584, 585, 586, 587, 588, 589, 590, 591, 592, 593, 594, 595, 596, 597, 598, 599, 600, 601, 602, 603, 604, 605, 606, 607, 608, 609, 610, 611, 612, 613, 614, 615, 616, 617, 618, 619, 620, 621, 622, 623, 624, 625, 626, 627, 628, 629, 630, 631, 632, 633, 634, 635, 636, 637, 638, 639, 640, 641, 642, 643, 644, 645, 646, 647, 648, 649, 650, 651, 652, 653, 654, 655]\n",
      "{195: [1, 71, 223, 266, 432, 493, 495, 571], 221: [13, 20, 86, 158, 491, 573, 628, 653], 76: [130, 238, 278, 310, 435, 496, 510], 125: [25, 161, 363, 492, 518, 626], 1: [88, 253, 305, 330, 347, 599], 157: [98, 160, 356, 450, 544, 550], 19: [103, 244, 455, 533, 541, 553], 27: [7, 60, 276, 433, 488], 45: [11, 205, 218, 303, 323], 122: [17, 125, 126, 461, 585], 196: [21, 145, 237, 337, 588], 150: [24, 38, 133, 273, 631], 177: [26, 150, 418, 483, 645], 57: [35, 123, 371, 451, 485], 121: [43, 329, 457, 507, 629], 105: [47, 274, 529, 570, 577], 127: [50, 105, 257, 391, 652], 97: [84, 196, 311, 442, 620], 96: [101, 153, 179, 412, 463], 154: [102, 155, 290, 367, 400], 109: [159, 182, 308, 394, 447], 176: [193, 338, 414, 595, 640], 133: [199, 417, 514, 535, 542], 215: [212, 333, 345, 364, 521], 25: [222, 224, 397, 404, 572], 73: [249, 252, 408, 427, 498], 103: [264, 355, 357, 415, 598], 99: [4, 422, 584, 589], 151: [12, 166, 172, 293], 200: [29, 403, 413, 614], 153: [34, 231, 350, 475], 67: [49, 59, 198, 458], 233: [57, 287, 399, 421], 46: [58, 219, 574, 637], 92: [63, 140, 177, 291], 129: [65, 109, 121, 156], 156: [69, 473, 607, 635], 3: [79, 115, 449, 452], 37: [80, 146, 251, 558], 30: [85, 110, 246, 523], 139: [90, 195, 344, 365], 10: [94, 221, 398, 647], 169: [95, 122, 354, 499], 112: [114, 188, 441, 536], 172: [116, 304, 342, 615], 198: [117, 324, 470, 538], 148: [120, 247, 313, 532], 208: [137, 489, 616, 622], 77: [143, 149, 263, 604], 42: [152, 352, 353, 524], 6: [163, 168, 245, 272], 235: [167, 406, 453, 506], 162: [170, 207, 545, 642], 91: [173, 200, 259, 318], 72: [178, 346, 438, 606], 94: [202, 233, 508, 561], 158: [214, 487, 527, 644], 22: [239, 377, 537, 611], 202: [242, 423, 512, 594], 108: [258, 425, 576, 602], 201: [277, 385, 580, 625], 90: [286, 621, 633, 643], 190: [297, 314, 494, 569], 183: [2, 78, 387], 166: [5, 55, 522], 59: [8, 211, 543], 192: [10, 254, 556], 211: [18, 250, 439], 206: [19, 351, 636], 88: [27, 62, 478], 180: [33, 334, 359], 75: [48, 315, 587], 44: [51, 147, 332], 100: [54, 306, 444], 143: [66, 440, 490], 226: [72, 296, 596], 85: [75, 281, 349], 124: [76, 204, 424], 34: [91, 401, 500], 50: [92, 93, 445], 86: [106, 548, 612], 155: [107, 269, 486], 47: [127, 192, 236], 137: [131, 348, 480], 193: [135, 395, 437], 182: [136, 201, 501], 181: [138, 165, 265], 191: [139, 229, 386], 118: [141, 294, 517], 53: [162, 203, 369], 178: [169, 443, 579], 31: [174, 362, 562], 66: [176, 459, 639], 171: [186, 566, 590], 113: [190, 388, 646], 56: [197, 370, 465], 79: [206, 295, 390], 95: [208, 227, 497], 197: [215, 464, 627], 174: [228, 393, 469], 23: [232, 481, 534], 12: [234, 328, 539], 203: [235, 325, 477], 119: [241, 484, 551], 224: [248, 360, 474], 135: [260, 428, 456], 15: [283, 288, 317], 93: [292, 467, 608], 131: [302, 316, 419], 64: [319, 343, 462], 186: [321, 407, 568], 217: [341, 409, 547], 89: [375, 531, 560], 28: [383, 520, 565], 18: [420, 429, 648], 20: [479, 619, 649], 194: [504, 515, 638], 102: [3, 289], 132: [6, 61], 13: [9, 554], 120: [14, 191], 210: [15, 73], 61: [22, 262], 68: [23, 89], 115: [28, 36], 228: [30, 270], 41: [31, 434], 5: [32, 460], 80: [37, 280], 14: [40, 142], 123: [41, 56], 149: [42, 396], 144: [44, 210], 219: [45, 618], 138: [46, 381], 81: [52, 340], 234: [53, 557], 189: [64, 129], 199: [67, 230], 187: [68, 436], 160: [70, 243], 204: [74, 124], 130: [77, 96], 7: [81, 171], 104: [82, 151], 212: [83, 528], 184: [87, 261], 36: [97, 372], 29: [99, 546], 170: [100, 225], 225: [104, 320], 207: [108, 583], 117: [118, 187], 78: [119, 216], 165: [128, 509], 152: [132, 578], 98: [134, 426], 161: [144, 476], 55: [148, 327], 106: [157, 376], 220: [164, 613], 82: [175, 279], 213: [181, 559], 179: [183, 382], 11: [185, 448], 65: [189, 472], 8: [194, 513], 71: [209, 285], 17: [213, 402], 16: [217, 307], 140: [226, 530], 167: [255, 284], 126: [268, 603], 60: [271, 600], 222: [282, 634], 229: [298, 471], 231: [299, 368], 111: [300, 468], 32: [301, 593], 74: [312, 411], 24: [322, 466], 58: [326, 431], 214: [335, 651], 51: [339, 605], 83: [366, 591], 4: [374, 392], 52: [379, 502], 232: [384, 581], 87: [389, 641], 209: [405, 601], 164: [416, 446], 168: [482, 525], 69: [503, 654], 216: [505, 549], 40: [516, 597], 185: [519, 650], 0: [540, 624], 35: [564, 575], 173: [586, 610], 128: [609, 632], 54: [16], 146: [39], 26: [111], 9: [112], 188: [113], 110: [154], 205: [180], 116: [184], 134: [220], 63: [240], 114: [256], 145: [267], 39: [275], 62: [309], 223: [331], 227: [336], 48: [358], 70: [361], 142: [373], 230: [378], 38: [380], 84: [410], 218: [430], 101: [454], 43: [511], 33: [526], 107: [552], 49: [555], 2: [563], 21: [567], 163: [582], 141: [592], 136: [617], 159: [623], 175: [630], 147: [655]}\n"
     ]
    }
   ],
   "source": [
    "coisas = defaultdict(set)\n",
    "for node, community in partion.items():\n",
    "    coisas[community].add(node) # (community_nr, nodes)\n",
    "\n",
    "\n",
    "\n",
    "valor_bonito = []\n",
    "assigned_ones = defaultdict(list)# sets from the louvain that are assigned as most similar to the same set of the lrf\n",
    "valores = []\n",
    "inesperado = []\n",
    "\n",
    "for k ,y in temp_dict.items(): # (com_nr, set community) do lrf\n",
    "    higher = -1\n",
    "    target_set = set()\n",
    "    contador_inesperado = 0\n",
    "    for blah, x in coisas.items(): # (comm_nr2, set community) do louvain\n",
    "\n",
    "        temp = x & y\n",
    "        if higher < len(temp):\n",
    "            higher = len(temp)\n",
    "            target_set = temp\n",
    "            rrr = blah\n",
    "            contador_inesperado+=1\n",
    "    \n",
    "    if higher !=-1:\n",
    "        valor_bonito.append(target_set)\n",
    "        assigned_ones[rrr].append(k)\n",
    "        valores.append(k)\n",
    "\n",
    "    if contador_inesperado > 1:\n",
    "        inesperado.append(k)\n",
    "\n",
    "\n",
    "c = 0\n",
    "for x in valor_bonito:\n",
    "    c+=len(x)\n",
    "\n",
    "\n",
    "assigned_ones = {k: v for k, v in sorted(assigned_ones.items(), key=lambda item: len(item[1]), reverse=True)}\n",
    "\n",
    "print(c/G.number_of_nodes())\n",
    "print(len(inesperado), inesperado)\n",
    "print(assigned_ones)\n"
   ]
  },
  {
   "cell_type": "code",
   "execution_count": 88,
   "metadata": {},
   "outputs": [
    {
     "name": "stdout",
     "output_type": "stream",
     "text": [
      "236\n",
      "236\n"
     ]
    }
   ],
   "source": [
    "contador = 0\n",
    "for a, b in assigned_ones.items():\n",
    "    contador += len(b)\n",
    "\n",
    "print(len(assigned_ones))\n",
    "print(len(coisas))\n"
   ]
  },
  {
   "cell_type": "code",
   "execution_count": 89,
   "metadata": {},
   "outputs": [
    {
     "name": "stdout",
     "output_type": "stream",
     "text": [
      "0.98626\n"
     ]
    }
   ],
   "source": [
    "\n",
    "intersection_value_metric = 0\n",
    "\n",
    "for a, b in assigned_ones.items():\n",
    "    z = set()\n",
    "    for v in b:\n",
    "        z = z.union(temp_dict[v])\n",
    "    \n",
    "    #assert len(z) == len(coisas[a])\n",
    "    tamanho = z.intersection(set(coisas[a]))\n",
    "    #assert len(z) == len(tamanho)\n",
    "    intersection_value_metric += len(tamanho)\n",
    "\n",
    "print(intersection_value_metric/G.number_of_nodes())"
   ]
  },
  {
   "cell_type": "code",
   "execution_count": 90,
   "metadata": {},
   "outputs": [
    {
     "data": {
      "text/plain": [
       "0.8796087364861563"
      ]
     },
     "execution_count": 90,
     "metadata": {},
     "output_type": "execute_result"
    }
   ],
   "source": [
    "import networkx.algorithms.community as nxcomm\n",
    "nxcomm.modularity(G,coisas.values())\n"
   ]
  },
  {
   "cell_type": "code",
   "execution_count": 91,
   "metadata": {},
   "outputs": [
    {
     "data": {
      "text/plain": [
       "0.8889678445387773"
      ]
     },
     "execution_count": 91,
     "metadata": {},
     "output_type": "execute_result"
    }
   ],
   "source": [
    "nxcomm.modularity(G,temp_dict.values())\n"
   ]
  },
  {
   "cell_type": "code",
   "execution_count": 92,
   "metadata": {},
   "outputs": [
    {
     "data": {
      "text/plain": [
       "235"
      ]
     },
     "execution_count": 92,
     "metadata": {},
     "output_type": "execute_result"
    }
   ],
   "source": [
    "max(partion.values())"
   ]
  },
  {
   "cell_type": "code",
   "execution_count": 93,
   "metadata": {},
   "outputs": [
    {
     "data": {
      "image/png": "[encoded data removed]",
      "text/plain": [
       "<Figure size 720x360 with 2 Axes>"
      ]
     },
     "metadata": {
      "needs_background": "light"
     },
     "output_type": "display_data"
    }
   ],
   "source": [
    "#coisas.values() -> louvain\n",
    "#temp_dict.values() -> lfr\n",
    "import collections\n",
    "import matplotlib.pyplot as plt\n",
    "import seaborn as sns\n",
    "def community_size_distribution(partition,partition2):\n",
    "    fig, (ax1, ax2) = plt.subplots(1, 2,figsize=(10,5))\n",
    "    fig.suptitle('Internal degree of communities distribution')\n",
    "    res_limit_val = math.sqrt(2*G.number_of_edges())\n",
    "    counter=collections.Counter([G.subgraph(x).number_of_edges() for x in partition])\n",
    "    counter2=collections.Counter([G.subgraph(x).number_of_edges() for x in partition2])\n",
    "    ax1.hist(counter,bins=20)\n",
    "    ax2.hist(counter2,bins=20)\n",
    "    ax1.axvline(x=res_limit_val, color= 'r')\n",
    "    ax2.axvline(x=res_limit_val, color= 'r')\n",
    "    ax1.set_yscale('log')\n",
    "    ax2.set_yscale('log')\n",
    "    ax1.set(title='Real Communities', ylabel='Frequency',xlabel='Internal degree')\n",
    "    ax2.set(title='Louvain Communities', ylabel='Frequency',xlabel='Internal degree')\n",
    "\n",
    "\n",
    "community_size_distribution(temp_dict.values(),coisas.values())\n"
   ]
  },
  {
   "cell_type": "code",
   "execution_count": 94,
   "metadata": {},
   "outputs": [
    {
     "name": "stdout",
     "output_type": "stream",
     "text": [
      "655\n",
      "236\n"
     ]
    }
   ],
   "source": [
    "print(len(temp_dict.values()))\n",
    "print(len(coisas.values()))"
   ]
  }
 ],
 "metadata": {
  "interpreter": {
   "hash": "3352614b04f6a771ec3a392566a3763a34cdc96a177f762027aa589f02ec5f67"
  },
  "kernelspec": {
   "display_name": "Python 3.8.2 32-bit",
   "language": "python",
   "name": "python3"
  },
  "language_info": {
   "codemirror_mode": {
    "name": "ipython",
    "version": 3
   },
   "file_extension": ".py",
   "mimetype": "text/x-python",
   "name": "python",
   "nbconvert_exporter": "python",
   "pygments_lexer": "ipython3",
   "version": "3.8.2"
  },
  "orig_nbformat": 4
 },
 "nbformat": 4,
 "nbformat_minor": 2
}
