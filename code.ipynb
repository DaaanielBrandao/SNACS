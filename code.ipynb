{
 "cells": [
  {
   "cell_type": "code",
   "execution_count": null,
   "metadata": {},
   "outputs": [],
   "source": [
    "import networkx as nx\n",
    "from networkx.generators.community import LFR_benchmark_graph"
   ]
  },
  {
   "cell_type": "code",
   "execution_count": 19,
   "metadata": {},
   "outputs": [],
   "source": [
    "n = 100000\n",
    "tau1 = 3\n",
    "tau2 = 1.5\n",
    "mu = 0.1\n",
    "G = LFR_benchmark_graph(\n",
    "    n, tau1, tau2, mu, average_degree=16, min_community=20, seed=10\n",
    ")\n",
    "\n",
    "#nodes, tau1, tau2, mu, average_degree"
   ]
  },
  {
   "cell_type": "code",
   "execution_count": 20,
   "metadata": {},
   "outputs": [],
   "source": [
    "configuration = {\n",
    "    'n':[100, 1000, 10000],\n",
    "    'tau1': [3, 3.5],\n",
    "    'tau2': [1.5, 2],\n",
    "    'mu': [0.1, 0.2]\n",
    "}"
   ]
  },
  {
   "cell_type": "code",
   "execution_count": 21,
   "metadata": {},
   "outputs": [],
   "source": [
    "\n",
    "configurations_possible = []\n",
    "\n",
    "def get_possible_configs(conf, index, current):\n",
    "\n",
    "    if index == len(conf):\n",
    "        configurations_possible.append(current)\n",
    "        return \n",
    "\n",
    "    here = list(conf.keys())[index]\n",
    "\n",
    "    for value in conf[here]:\n",
    "        current[here] = value\n",
    "        get_possible_configs(conf, index + 1, current)\n",
    "\n",
    "\n",
    "get_possible_configs(configuration, 0, {})\n",
    "\n"
   ]
  },
  {
   "cell_type": "code",
   "execution_count": 22,
   "metadata": {},
   "outputs": [
    {
     "name": "stdout",
     "output_type": "stream",
     "text": [
      "{'n': 10000, 'tau1': 3.5, 'tau2': 2, 'mu': 0.2}\n"
     ]
    }
   ],
   "source": [
    "for configuration in configurations_possible:\n",
    "    print(configuration)\n",
    "    G = LFR_benchmark_graph(configuration['n'], configuration['tau1'], \\\n",
    "        configuration['tau2'], configuration['mu'], average_degree=16, min_community=20, seed=10)\n",
    "    #todo: acrescentar aqui as metricas\n",
    "    break"
   ]
  },
  {
   "cell_type": "code",
   "execution_count": 23,
   "metadata": {},
   "outputs": [
    {
     "name": "stdout",
     "output_type": "stream",
     "text": [
      "90428\n",
      "425.27167787192224\n"
     ]
    }
   ],
   "source": [
    "import math\n",
    "print(G.number_of_edges())\n",
    "print(math.sqrt(2*G.number_of_edges()))"
   ]
  },
  {
   "cell_type": "code",
   "execution_count": 24,
   "metadata": {},
   "outputs": [],
   "source": [
    "communities = {frozenset(G.nodes[v][\"community\"]) for v in G}\n"
   ]
  },
  {
   "cell_type": "code",
   "execution_count": 25,
   "metadata": {},
   "outputs": [
    {
     "name": "stdout",
     "output_type": "stream",
     "text": [
      "164\n"
     ]
    }
   ],
   "source": [
    "print(len(communities))"
   ]
  },
  {
   "cell_type": "code",
   "execution_count": 26,
   "metadata": {},
   "outputs": [],
   "source": [
    "#for x in communities:\n",
    "#    print(x)"
   ]
  },
  {
   "cell_type": "code",
   "execution_count": 27,
   "metadata": {},
   "outputs": [
    {
     "name": "stdout",
     "output_type": "stream",
     "text": [
      "{401: 1, 394: 1, 244: 1, 241: 1, 236: 1, 219: 1, 215: 1, 202: 1, 183: 1, 174: 1, 157: 1, 154: 1, 153: 1, 146: 1, 145: 1, 136: 1, 133: 1, 119: 1, 105: 1, 103: 1, 97: 2, 95: 1, 93: 1, 91: 2, 90: 1, 89: 4, 88: 1, 87: 1, 82: 1, 81: 1, 79: 2, 76: 1, 73: 2, 71: 1, 69: 1, 68: 2, 67: 1, 65: 1, 60: 2, 59: 2, 58: 1, 57: 1, 56: 2, 55: 2, 54: 3, 53: 3, 52: 1, 50: 2, 49: 2, 48: 3, 47: 1, 46: 1, 44: 2, 43: 4, 42: 1, 41: 1, 40: 3, 39: 2, 37: 2, 36: 4, 35: 2, 34: 5, 33: 3, 32: 2, 31: 3, 30: 4, 29: 3, 28: 3, 27: 2, 26: 2, 25: 6, 24: 3, 23: 9, 22: 6, 21: 8, 20: 12}\n"
     ]
    }
   ],
   "source": [
    "from collections import defaultdict\n",
    "\n",
    "size_comm = defaultdict(int)\n",
    "for x in communities:\n",
    "    size_comm[len(x)]+=1\n",
    "\n",
    "size_comm = {k: v for k, v in sorted(size_comm.items(), key=lambda item: item[0], reverse=True)}\n",
    "print(size_comm)"
   ]
  },
  {
   "cell_type": "code",
   "execution_count": 28,
   "metadata": {},
   "outputs": [],
   "source": [
    "import community.community_louvain as community_louvain"
   ]
  },
  {
   "cell_type": "code",
   "execution_count": 29,
   "metadata": {},
   "outputs": [
    {
     "name": "stdout",
     "output_type": "stream",
     "text": [
      "{401: 1, 394: 1, 244: 1, 241: 1, 236: 1, 219: 1, 215: 1, 202: 1, 183: 1, 174: 1, 157: 1, 154: 1, 153: 1, 146: 1, 145: 1, 143: 1, 141: 1, 139: 1, 136: 1, 133: 1, 132: 1, 131: 1, 129: 1, 125: 1, 124: 1, 122: 1, 120: 1, 119: 2, 118: 2, 116: 1, 112: 1, 111: 1, 109: 1, 108: 1, 107: 1, 104: 1, 103: 1, 102: 2, 100: 1, 98: 1, 97: 1, 96: 1, 95: 1, 94: 1, 93: 2, 92: 1, 91: 1, 90: 1, 89: 1, 88: 2, 86: 1, 83: 1, 82: 2, 79: 2, 78: 1, 77: 1, 76: 2, 74: 2, 73: 2, 72: 1, 71: 1, 70: 1, 69: 1, 62: 1, 60: 2, 59: 2, 58: 1, 56: 3, 55: 2, 50: 1, 48: 1, 44: 1, 42: 1, 40: 2, 35: 1}\n"
     ]
    }
   ],
   "source": [
    "partion = community_louvain.best_partition(G)\n",
    "\n",
    "found_comm = defaultdict(int)\n",
    "for node, community in partion.items():\n",
    "    found_comm[community]+=1\n",
    "\n",
    "# (community_nr, nr_nodes)\n",
    "\n",
    "another = defaultdict(int)\n",
    "\n",
    "for cnr, c in found_comm.items():\n",
    "    another[c]+=1\n",
    "\n",
    "another = {k: v for k, v in sorted(another.items(), key=lambda item: item[0], reverse=True)}\n",
    "\n",
    "\n",
    "print(another)"
   ]
  },
  {
   "cell_type": "code",
   "execution_count": 30,
   "metadata": {},
   "outputs": [],
   "source": [
    "temp_dict = defaultdict()\n",
    "\n",
    "c = 1\n",
    "for y in communities:\n",
    "    temp_dict[c] = y\n",
    "    c+= 1\n",
    "\n"
   ]
  },
  {
   "cell_type": "code",
   "execution_count": 31,
   "metadata": {},
   "outputs": [
    {
     "name": "stdout",
     "output_type": "stream",
     "text": [
      "0.9999\n",
      "162 [1, 2, 3, 4, 5, 6, 7, 8, 9, 10, 11, 12, 13, 14, 15, 16, 17, 18, 19, 20, 21, 22, 23, 24, 25, 26, 27, 28, 29, 30, 31, 32, 33, 34, 35, 36, 37, 38, 39, 40, 41, 42, 43, 44, 45, 47, 48, 49, 50, 51, 52, 53, 54, 55, 56, 57, 58, 59, 60, 61, 62, 63, 64, 65, 66, 67, 68, 69, 70, 71, 72, 73, 74, 75, 76, 77, 78, 79, 80, 81, 82, 83, 84, 85, 86, 87, 88, 89, 90, 91, 92, 93, 94, 95, 96, 97, 98, 99, 100, 101, 102, 103, 104, 105, 106, 107, 108, 109, 110, 111, 112, 113, 114, 115, 116, 117, 118, 119, 120, 121, 122, 123, 124, 125, 126, 127, 128, 129, 130, 131, 133, 134, 135, 136, 137, 138, 139, 140, 141, 142, 143, 144, 145, 146, 147, 148, 149, 150, 151, 152, 153, 154, 155, 156, 157, 158, 159, 160, 161, 162, 163, 164]\n",
      "{73: [48, 85, 91, 108], 77: [2, 25, 154], 29: [3, 111, 161], 67: [10, 11, 97], 38: [14, 15, 81], 20: [16, 152, 155], 82: [17, 40, 76], 62: [19, 131, 158], 54: [20, 54, 68], 49: [26, 77, 119], 47: [31, 118, 159], 48: [38, 104, 136], 36: [41, 123, 160], 78: [42, 141, 146], 16: [44, 52, 64], 32: [45, 50, 70], 79: [47, 55, 57], 75: [63, 67, 128], 26: [73, 116, 124], 72: [79, 102, 130], 74: [83, 84, 135], 83: [4, 32], 50: [5, 94], 21: [6, 80], 45: [8, 87], 28: [12, 142], 58: [18, 21], 42: [22, 103], 30: [27, 114], 22: [28, 139], 5: [30, 127], 46: [33, 109], 34: [35, 82], 64: [36, 53], 84: [37, 93], 55: [39, 148], 40: [46, 132], 8: [59, 92], 37: [60, 140], 23: [62, 157], 2: [65, 99], 15: [75, 112], 10: [89, 145], 57: [90, 96], 0: [98, 113], 65: [100, 125], 4: [107, 156], 56: [110, 164], 87: [129, 133], 7: [137, 149], 9: [144, 153], 59: [1], 13: [7], 35: [9], 60: [13], 89: [23], 41: [24], 88: [29], 24: [34], 31: [43], 81: [49], 53: [51], 44: [56], 12: [58], 90: [61], 52: [66], 61: [69], 14: [71], 51: [72], 69: [74], 39: [78], 86: [86], 17: [88], 76: [95], 43: [101], 18: [105], 85: [106], 70: [115], 71: [117], 11: [120], 33: [121], 1: [122], 68: [126], 80: [134], 27: [138], 63: [143], 6: [147], 19: [150], 3: [151], 25: [162], 66: [163]}\n"
     ]
    }
   ],
   "source": [
    "coisas = defaultdict(set)\n",
    "for node, community in partion.items():\n",
    "    coisas[community].add(node) # (community_nr, nodes)\n",
    "\n",
    "\n",
    "\n",
    "valor_bonito = []\n",
    "assigned_ones = defaultdict(list)# sets from the louvain that are assigned as most similar to the same set of the lrf\n",
    "valores = []\n",
    "inesperado = []\n",
    "\n",
    "for k ,y in temp_dict.items(): # (com_nr, set community) do lrf\n",
    "    higher = -1\n",
    "    target_set = set()\n",
    "    contador_inesperado = 0\n",
    "    for blah, x in coisas.items(): # (comm_nr2, set community) do louvain\n",
    "\n",
    "        temp = x & y\n",
    "        if higher < len(temp):\n",
    "            higher = len(temp)\n",
    "            target_set = temp\n",
    "            rrr = blah\n",
    "            contador_inesperado+=1\n",
    "    \n",
    "    if higher !=-1:\n",
    "        valor_bonito.append(target_set)\n",
    "        assigned_ones[rrr].append(k)\n",
    "        valores.append(k)\n",
    "\n",
    "    if contador_inesperado > 1:\n",
    "        inesperado.append(k)\n",
    "\n",
    "\n",
    "c = 0\n",
    "for x in valor_bonito:\n",
    "    c+=len(x)\n",
    "\n",
    "\n",
    "assigned_ones = {k: v for k, v in sorted(assigned_ones.items(), key=lambda item: len(item[1]), reverse=True)}\n",
    "\n",
    "print(c/G.number_of_nodes())\n",
    "print(len(inesperado), inesperado)\n",
    "print(assigned_ones)\n"
   ]
  },
  {
   "cell_type": "code",
   "execution_count": 32,
   "metadata": {},
   "outputs": [
    {
     "name": "stdout",
     "output_type": "stream",
     "text": [
      "91\n",
      "91\n"
     ]
    }
   ],
   "source": [
    "contador = 0\n",
    "for a, b in assigned_ones.items():\n",
    "    contador += len(b)\n",
    "\n",
    "print(len(assigned_ones))\n",
    "print(len(coisas))\n"
   ]
  },
  {
   "cell_type": "code",
   "execution_count": 34,
   "metadata": {},
   "outputs": [
    {
     "name": "stdout",
     "output_type": "stream",
     "text": [
      "0.9999\n"
     ]
    }
   ],
   "source": [
    "\n",
    "intersection_value_metric = 0\n",
    "\n",
    "for a, b in assigned_ones.items():\n",
    "    z = set()\n",
    "    for v in b:\n",
    "        z = z.union(temp_dict[v])\n",
    "    \n",
    "    #assert len(z) == len(coisas[a])\n",
    "    tamanho = z.intersection(set(coisas[a]))\n",
    "    #assert len(z) == len(tamanho)\n",
    "    intersection_value_metric += len(tamanho)\n",
    "\n",
    "print(intersection_value_metric/G.number_of_nodes())"
   ]
  },
  {
   "cell_type": "code",
   "execution_count": 36,
   "metadata": {},
   "outputs": [
    {
     "data": {
      "text/plain": [
       "0.6898126315711915"
      ]
     },
     "execution_count": 36,
     "metadata": {},
     "output_type": "execute_result"
    }
   ],
   "source": [
    "import networkx.algorithms.community as nxcomm\n",
    "nxcomm.modularity(G,coisas.values())\n"
   ]
  },
  {
   "cell_type": "code",
   "execution_count": 37,
   "metadata": {},
   "outputs": [
    {
     "data": {
      "text/plain": [
       "0.6887294909621239"
      ]
     },
     "execution_count": 37,
     "metadata": {},
     "output_type": "execute_result"
    }
   ],
   "source": [
    "nxcomm.modularity(G,temp_dict.values())\n"
   ]
  },
  {
   "cell_type": "code",
   "execution_count": null,
   "metadata": {},
   "outputs": [
    {
     "data": {
      "text/plain": [
       "275"
      ]
     },
     "execution_count": 260,
     "metadata": {},
     "output_type": "execute_result"
    }
   ],
   "source": [
    "max(partion.values())"
   ]
  },
  {
   "cell_type": "code",
   "execution_count": null,
   "metadata": {},
   "outputs": [],
   "source": []
  }
 ],
 "metadata": {
  "interpreter": {
   "hash": "3352614b04f6a771ec3a392566a3763a34cdc96a177f762027aa589f02ec5f67"
  },
  "kernelspec": {
   "display_name": "Python 3.8.2 32-bit",
   "language": "python",
   "name": "python3"
  },
  "language_info": {
   "codemirror_mode": {
    "name": "ipython",
    "version": 3
   },
   "file_extension": ".py",
   "mimetype": "text/x-python",
   "name": "python",
   "nbconvert_exporter": "python",
   "pygments_lexer": "ipython3",
   "version": "3.6.9"
  },
  "orig_nbformat": 4
 },
 "nbformat": 4,
 "nbformat_minor": 2
}
