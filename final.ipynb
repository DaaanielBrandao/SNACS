{
 "cells": [
  {
   "cell_type": "code",
   "execution_count": 203,
   "metadata": {},
   "outputs": [],
   "source": [
    "import networkx as nx\n",
    "from networkx.generators.community import LFR_benchmark_graph"
   ]
  },
  {
   "cell_type": "code",
   "execution_count": 204,
   "metadata": {},
   "outputs": [],
   "source": [
    "n = 100000\n",
    "tau1 = 3 # 2-3\n",
    "tau2 = 1.5 # 1-2\n",
    "mu = 0.1\n",
    "\n",
    "def create_benchmark_graph(n, tau1, tau2, mu, average_degree, min_community, seed):\n",
    "    G = LFR_benchmark_graph(\n",
    "        n, tau1, tau2, mu, average_degree=average_degree, \\\n",
    "            min_community=min_community, seed=seed\n",
    "    )\n",
    "    return G\n"
   ]
  },
  {
   "cell_type": "code",
   "execution_count": 205,
   "metadata": {},
   "outputs": [],
   "source": [
    "configuration = {\n",
    "    'n':[ 10000],\n",
    "    'tau1': [3],\n",
    "    'tau2': [1.5],\n",
    "    'mu': [0.1],\n",
    "    'avg_degree': [5]\n",
    "}"
   ]
  },
  {
   "cell_type": "code",
   "execution_count": 206,
   "metadata": {},
   "outputs": [
    {
     "name": "stdout",
     "output_type": "stream",
     "text": [
      "{'n': 10000, 'tau1': 3, 'tau2': 1.5, 'mu': 0.1, 'avg_degree': 5}\n"
     ]
    }
   ],
   "source": [
    "\n",
    "configurations_possible = []\n",
    "\n",
    "def get_possible_configs(conf, index, current):\n",
    "\n",
    "    if index == len(conf):\n",
    "        configurations_possible.append(current.copy())\n",
    "        print(current)\n",
    "        return \n",
    "\n",
    "    here = list(conf.keys())[index]\n",
    "\n",
    "    for value in conf[here]:\n",
    "        current[here] = value\n",
    "        get_possible_configs(conf, index + 1, current)\n",
    "\n",
    "\n",
    "get_possible_configs(configuration, 0, {})\n"
   ]
  },
  {
   "cell_type": "code",
   "execution_count": 209,
   "metadata": {},
   "outputs": [],
   "source": [
    "from collections import defaultdict\n",
    "import community.community_louvain as community_louvain\n",
    "import math\n",
    "\n",
    "def get_communities(G):\n",
    "\n",
    "    communities = {frozenset(G.nodes[v][\"community\"]) for v in G}\n",
    "    # (com_nr, set community)\n",
    "    lrf_dict = defaultdict()\n",
    "    c = 1\n",
    "    for y in communities:\n",
    "        lrf_dict[c] = y\n",
    "        c+= 1\n",
    "\n",
    "\n",
    "    # (comm_nr, set communities)\n",
    "    partion = community_louvain.best_partition(G)\n",
    "    louvain_dict = defaultdict(set)\n",
    "    for node, community in partion.items():\n",
    "        louvain_dict[community].add(node) # (community_nr, nodes)\n",
    "\n",
    "    return lrf_dict, louvain_dict\n",
    "\n",
    "\n",
    "\n",
    "def get_percentage_intercetion(set_ids, mapping_ids):\n",
    "\n",
    "    z = set()\n",
    "    for id in set_ids:\n",
    "        z = z.union(mapping_ids[id])\n",
    "    return z\n",
    "\n",
    "\n",
    "def is_small_community(G, community):\n",
    "    res_limit_val = math.sqrt(2*G.number_of_edges())\n",
    "    sub = G.subgraph(community)\n",
    "    return sub.number_of_edges() < res_limit_val\n",
    "\n",
    "\n",
    "\n",
    "def compare_communities_stats(G):\n",
    "\n",
    "    lrf_dict, louvain_dict = get_communities(G)\n",
    "\n",
    "    assigned_ones = defaultdict(set)# sets from the louvain that are assigned as most similar to the same set of the lrf\n",
    "\n",
    "    for k, y in lrf_dict.items():\n",
    "        \n",
    "        higher = -1\n",
    "        target_set = set() # set with the most common nodes\n",
    "        overlapping_set_nr = set()\n",
    "\n",
    "        for nr, com_set in louvain_dict.items():\n",
    "\n",
    "            temp = com_set & y\n",
    "            \n",
    "            if len(temp) > 0:\n",
    "                overlapping_set_nr.add(nr)\n",
    "                assigned_ones[nr].add(k)\n",
    "\n",
    "            \n",
    "            if higher < len(temp):\n",
    "                higher = len(temp)\n",
    "\n",
    "        louvain_union = get_percentage_intercetion(overlapping_set_nr, louvain_dict)\n",
    "        lrf_union = lrf_dict[k]\n",
    "        percentage = len(louvain_union.intersection(lrf_union)) / max(len(louvain_union), len(lrf_union))\n",
    "        #print(\"For lrf community with size {}, there were found in louvain {} communities overlapping\".format(len(y), len(overlapping_set_nr)))\n",
    "        print(\"For lrf community id {} (resol_lim : {}), they intersect with louvain communities ids {} => {}\".format(k,\\\n",
    "        is_small_community(G, lrf_union) ,overlapping_set_nr, percentage))\n",
    "\n",
    "\n",
    "    print(\"the other way around:\")\n",
    "    for k, y in assigned_ones.items(): \n",
    "        # k -> community id of louvain\n",
    "        # y -> set of communities id of lrf\n",
    "        # community id of louvain -> communties of lrf that overlap with the louvain\n",
    "        louvain_union = louvain_dict[k]\n",
    "        lrf_union = get_percentage_intercetion(y, lrf_dict)\n",
    "        percentage = len(louvain_union.intersection(lrf_union)) / max(len(louvain_union), len(lrf_union))\n",
    "        print(\"{} (louvain (resol_lim : {})) : {} (lrf) => {}\" .format(k, is_small_community(G, louvain_union), y, percentage))\n",
    "\n",
    "def compare_communities_number(G):\n",
    "    partion = community_louvain.best_partition(G)\n",
    "    l_c = max(partion.values())\n",
    "\n",
    "    communities = {frozenset(G.nodes[v][\"community\"]) for v in G}\n",
    "    lrf_c = len(communities)\n",
    "\n",
    "    return l_c , lrf_c\n",
    "\n"
   ]
  },
  {
   "cell_type": "code",
   "execution_count": 208,
   "metadata": {},
   "outputs": [
    {
     "name": "stdout",
     "output_type": "stream",
     "text": [
      "{'n': 10000, 'tau1': 3, 'tau2': 1.5, 'mu': 0.1, 'avg_degree': 5}\n"
     ]
    },
    {
     "data": {
      "image/png": "[encoded data removed]",
      "text/plain": [
       "<Figure size 432x288 with 1 Axes>"
      ]
     },
     "metadata": {},
     "output_type": "display_data"
    },
    {
     "name": "stdout",
     "output_type": "stream",
     "text": [
      "[None]\n"
     ]
    },
    {
     "data": {
      "text/plain": [
       "[None]"
      ]
     },
     "execution_count": 208,
     "metadata": {},
     "output_type": "execute_result"
    }
   ],
   "source": [
    "def run_experiment(configurations_possible, experiment_call_back):\n",
    "\n",
    "    values = []\n",
    "    for configuration in configurations_possible:\n",
    "        print(configuration)\n",
    "        G = create_benchmark_graph(configuration['n'], configuration['tau1'], \\\n",
    "            configuration['tau2'], configuration['mu'], \\\n",
    "            average_degree=configuration['avg_degree'], min_community=20, seed=10)\n",
    "        values.append(experiment_call_back(G))\n",
    "        print(values)\n",
    "    \n",
    "    #print(values)\n",
    "    return values\n",
    "\n",
    "run_experiment(configurations_possible, compare_communities_stats)"
   ]
  }
 ],
 "metadata": {
  "interpreter": {
   "hash": "31f2aee4e71d21fbe5cf8b01ff0e069b9275f58929596ceb00d14d90e3e16cd6"
  },
  "kernelspec": {
   "display_name": "Python 3.9.2 64-bit",
   "language": "python",
   "name": "python3"
  },
  "language_info": {
   "codemirror_mode": {
    "name": "ipython",
    "version": 3
   },
   "file_extension": ".py",
   "mimetype": "text/x-python",
   "name": "python",
   "nbconvert_exporter": "python",
   "pygments_lexer": "ipython3",
   "version": "3.6.9"
  },
  "orig_nbformat": 4
 },
 "nbformat": 4,
 "nbformat_minor": 2
}
